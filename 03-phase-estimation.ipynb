{
 "cells": [
  {
   "cell_type": "markdown",
   "id": "afd0dd2f",
   "metadata": {},
   "source": [
    "# Quantum Phase Estimation algorithm (Q# code)\n",
    "\n",
    "This notebook implements Quantum Phase Estimation algorithm (which uses Quantum Fourier Transform) in Q#.\n",
    "\n",
    "See [here](https://tsmatz.wordpress.com/2019/04/26/quantum-computing-qsharp-quantum-fourier-transform-and-phase-estimation/) for mathematical background.\n",
    "\n",
    "*back to [index](https://github.com/tsmatz/quantum-algorithms-qsharp)*"
   ]
  },
  {
   "cell_type": "code",
   "execution_count": 1,
   "id": "9af781e2",
   "metadata": {},
   "outputs": [
    {
     "name": "stdout",
     "output_type": "stream",
     "text": [
      "Preparing Q# environment...\n"
     ]
    }
   ],
   "source": [
    "import qsharp"
   ]
  },
  {
   "cell_type": "code",
   "execution_count": 2,
   "id": "fc367230",
   "metadata": {},
   "outputs": [],
   "source": [
    "# declare function\n",
    "PhaseEstimationSample: any = None"
   ]
  },
  {
   "cell_type": "code",
   "execution_count": 3,
   "id": "d04e8af4",
   "metadata": {},
   "outputs": [],
   "source": [
    "%%qsharp\n",
    "open Microsoft.Quantum.Intrinsic;\n",
    "open Microsoft.Quantum.Convert;\n",
    "open Microsoft.Quantum.Math;\n",
    "\n",
    "operation QFTImpl (qs : Qubit[]) : Unit is Adj + Ctl\n",
    "{\n",
    "    body (...)\n",
    "    {\n",
    "        let nQubits = Length(qs);\n",
    "\n",
    "        for i in 0 .. nQubits - 1\n",
    "        {\n",
    "            H(qs[i]);\n",
    "            for j in i + 1 .. nQubits - 1\n",
    "            {\n",
    "                Controlled R1Frac([qs[j]], (1, j - i, qs[i]));\n",
    "            }\n",
    "        }\n",
    "\n",
    "        Microsoft.Quantum.Canon.SwapReverseRegister(qs);\n",
    "    }\n",
    "}\n",
    "\n",
    "operation QuantumPhaseEstimationImpl (oracle : (Qubit[] => Unit is Adj + Ctl), targetState : Qubit[], controlRegister : Qubit[]) : Unit is Adj + Ctl\n",
    "{\n",
    "    body (...)\n",
    "    {\n",
    "        let nQubits = Length(controlRegister);\n",
    "        Microsoft.Quantum.Canon.ApplyToEachCA(H, controlRegister);\n",
    "\n",
    "        for idxControlQubit in 0 .. nQubits - 1\n",
    "        {\n",
    "            let control = (controlRegister)[nQubits - 1 - idxControlQubit];\n",
    "            let power = 2 ^ idxControlQubit;\n",
    "            Controlled PowerOracle([control], (oracle, targetState, power));\n",
    "\n",
    "            //// You can also write as follows,\n",
    "            //// Or use Microsoft.Quantum.Canon.DiscreteOracle instead\n",
    "            //for (idxPower in 0 .. power - 1)\n",
    "            //{\n",
    "            //  Controlled oracle([control], targetState);\n",
    "            //}\n",
    "        }\n",
    "\n",
    "        Adjoint QFTImpl(controlRegister);\n",
    "    }        \n",
    "}\n",
    "\n",
    "/// This is bloackbox oracle !\n",
    "operation ExpOracle (eigenphase : Double, register : Qubit[]) : Unit is Adj + Ctl {        \n",
    "    body (...) {\n",
    "        Rz(2.0 * eigenphase, register[0]);\n",
    "    }\n",
    "}\n",
    "\n",
    "operation PowerOracle (oracle : (Qubit[] => Unit is Adj + Ctl), targetState : Qubit[], power : Int) : Unit is Adj + Ctl {\n",
    "    body (...) {\n",
    "        for idxPower in 0 .. power - 1\n",
    "        {\n",
    "            oracle(targetState);\n",
    "        }\n",
    "    }\n",
    "}\n",
    "\n",
    "operation PhaseEstimationSample (eigenphase : Double) : Double {\n",
    "    let oracle = ExpOracle(eigenphase, _); // Generate (Qubit[] => Unit) with eigenphase \n",
    "    let n = 10;\n",
    "\n",
    "    mutable estPhase = 0.0;\n",
    "\n",
    "    use (eigenstate, phaseRegister) = (Qubit[1], Qubit[n]) {\n",
    "        X(eigenstate[0]);\n",
    "        QuantumPhaseEstimationImpl(oracle, eigenstate, phaseRegister);\n",
    "        let estReg = Microsoft.Quantum.Arithmetic.MeasureInteger(\n",
    "            Microsoft.Quantum.Arithmetic.BigEndianAsLittleEndian(Microsoft.Quantum.Arithmetic.BigEndian(phaseRegister)));\n",
    "        set estPhase = 2.0 * PI() * IntAsDouble(estReg) / IntAsDouble(2 ^ n);\n",
    "        Reset(eigenstate[0]);\n",
    "    }\n",
    "\n",
    "    return estPhase;\n",
    "}"
   ]
  },
  {
   "cell_type": "code",
   "execution_count": 4,
   "id": "81760158",
   "metadata": {},
   "outputs": [
    {
     "name": "stdout",
     "output_type": "stream",
     "text": [
      "expected 4.664139856203383, estimated 4.663301595172349\n",
      "expected 4.018953357355498, estimated 4.01902966426038\n",
      "expected 0.5948376235489021, estimated 0.5951845456996288\n"
     ]
    }
   ],
   "source": [
    "import random\n",
    "\n",
    "random.seed(1000)\n",
    "\n",
    "eigenphase = random.uniform(0.0, 1.0) * 3.0 * 2.0\n",
    "est = PhaseEstimationSample.simulate(eigenphase=eigenphase)\n",
    "print(\"expected {}, estimated {}\".format(eigenphase, est))\n",
    "\n",
    "eigenphase = random.uniform(0.0, 1.0) * 3.0 * 2.0\n",
    "est = PhaseEstimationSample.simulate(eigenphase=eigenphase)\n",
    "print(\"expected {}, estimated {}\".format(eigenphase, est))\n",
    "\n",
    "eigenphase = random.uniform(0.0, 1.0) * 3.0 * 2.0\n",
    "est = PhaseEstimationSample.simulate(eigenphase=eigenphase)\n",
    "print(\"expected {}, estimated {}\".format(eigenphase, est))"
   ]
  },
  {
   "cell_type": "code",
   "execution_count": null,
   "id": "32264578",
   "metadata": {},
   "outputs": [],
   "source": []
  }
 ],
 "metadata": {
  "kernelspec": {
   "display_name": "Python 3 (ipykernel)",
   "language": "python",
   "name": "python3"
  },
  "language_info": {
   "codemirror_mode": {
    "name": "ipython",
    "version": 3
   },
   "file_extension": ".py",
   "mimetype": "text/x-python",
   "name": "python",
   "nbconvert_exporter": "python",
   "pygments_lexer": "ipython3",
   "version": "3.9.12"
  }
 },
 "nbformat": 4,
 "nbformat_minor": 5
}
