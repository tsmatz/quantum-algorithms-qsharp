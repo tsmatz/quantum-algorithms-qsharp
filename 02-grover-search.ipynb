{
 "cells": [
  {
   "cell_type": "markdown",
   "id": "afd0dd2f",
   "metadata": {},
   "source": [
    "# Grover Search algorithm (Q# code)\n",
    "\n",
    "This notebook implements quantum Grover's Search algorithm in Q#.\n",
    "\n",
    "See [here](https://tsmatz.wordpress.com/2019/03/12/quantum-computing-grover-algorithm-programming/) for mathematical background.\n",
    "\n",
    "*back to [index](https://github.com/tsmatz/quantum-algorithms-qsharp)*"
   ]
  },
  {
   "cell_type": "code",
   "execution_count": 1,
   "id": "9af781e2",
   "metadata": {},
   "outputs": [
    {
     "name": "stdout",
     "output_type": "stream",
     "text": [
      "Preparing Q# environment...\n",
      "."
     ]
    }
   ],
   "source": [
    "import qsharp"
   ]
  },
  {
   "cell_type": "code",
   "execution_count": 2,
   "id": "fc367230",
   "metadata": {},
   "outputs": [],
   "source": [
    "# declare function\n",
    "ApplyQuantumSearch: any = None"
   ]
  },
  {
   "cell_type": "code",
   "execution_count": 3,
   "id": "d04e8af4",
   "metadata": {},
   "outputs": [],
   "source": [
    "%%qsharp\n",
    "open Microsoft.Quantum.Intrinsic;\n",
    "open Microsoft.Quantum.Math;\n",
    "open Microsoft.Quantum.Measurement;\n",
    "\n",
    "operation ApplyQuantumSearch (nIterations : Int, nDatabaseQubits : Int) : (Result, Result[]) {\n",
    "    use (markedQubit, databaseRegister) = (Qubit(), Qubit[nDatabaseQubits]) {\n",
    "        QuantumSearch(nIterations, markedQubit, databaseRegister);\n",
    "\n",
    "        // Measure the marked qubit.\n",
    "        // On success, this should be |1〉.\n",
    "        let resultSuccess = M(markedQubit);\n",
    "\n",
    "        // Measure the state of the database register.\n",
    "        // On success, this should be |1〉 |1〉 ... |1〉.\n",
    "        let resultElement = MultiM(databaseRegister);\n",
    "\n",
    "        // Reset all qubits to the |0〉 state.\n",
    "        Reset(markedQubit);\n",
    "        for idxResult in 0 .. nDatabaseQubits - 1 {\n",
    "            Reset(databaseRegister[idxResult]);\n",
    "        }\n",
    "\n",
    "        return (resultSuccess, resultElement);\n",
    "    }\n",
    "}\n",
    "\n",
    "operation QuantumSearch (nIterations : Int, markedQubit : Qubit, databaseRegister : Qubit[]) : Unit {\n",
    "    StatePreparationOracle(markedQubit, databaseRegister);\n",
    "    for idx in 0 .. nIterations - 1 {\n",
    "        ReflectMarked(markedQubit);\n",
    "        ReflectStart(markedQubit, databaseRegister);\n",
    "    }\n",
    "}\n",
    "\n",
    "operation StatePreparationOracle (markedQubit : Qubit, databaseRegister : Qubit[]) : Unit is Adj + Ctl{\n",
    "    UniformSuperpositionOracle(databaseRegister);\n",
    "    DatabaseOracle(markedQubit, databaseRegister);\n",
    "}\n",
    "\n",
    "operation UniformSuperpositionOracle (databaseRegister : Qubit[]) : Unit is Adj + Ctl {\n",
    "    body (...) {\n",
    "        let nQubits = Length(databaseRegister);\n",
    "        for idxQubit in 0 .. nQubits - 1 {\n",
    "            H(databaseRegister[idxQubit]);\n",
    "        }\n",
    "    }\n",
    "}\n",
    "\n",
    "operation DatabaseOracle (markedQubit : Qubit, databaseRegister : Qubit[]) : Unit is Adj + Ctl {\n",
    "    Controlled X(databaseRegister, markedQubit);\n",
    "}\n",
    "\n",
    "operation ReflectMarked (markedQubit : Qubit) : Unit {\n",
    "    R1(PI(), markedQubit);\n",
    "}\n",
    "\n",
    "operation ReflectStart (markedQubit : Qubit, databaseRegister : Qubit[]) : Unit {\n",
    "    Adjoint StatePreparationOracle(markedQubit, databaseRegister);\n",
    "    ReflectZero([markedQubit] + databaseRegister);\n",
    "    StatePreparationOracle(markedQubit, databaseRegister);\n",
    "}\n",
    "\n",
    "operation ReflectZero (allQubits : Qubit[]) : Unit {\n",
    "    let nQubits = Length(allQubits);\n",
    "    for idxQubit in 0 .. nQubits - 1 {\n",
    "        X(allQubits[idxQubit]);\n",
    "    }\n",
    "    Controlled Z(allQubits[1 .. nQubits - 1], allQubits[0]);\n",
    "    for idxQubit in 0 .. nQubits - 1 {\n",
    "        X(allQubits[idxQubit]);\n",
    "    }\n",
    "}"
   ]
  },
  {
   "cell_type": "code",
   "execution_count": 4,
   "id": "1087c4af",
   "metadata": {},
   "outputs": [
    {
     "name": "stdout",
     "output_type": "stream",
     "text": [
      "Succeed !\n",
      "Found database index : [1, 1, 1, 1, 1, 1]\n"
     ]
    }
   ],
   "source": [
    "db_qbit_len = 6;\n",
    "iterations = 3;\n",
    "results = ApplyQuantumSearch.simulate(\n",
    "    nIterations=iterations,\n",
    "    nDatabaseQubits=db_qbit_len)\n",
    "markedQubit = results[0]\n",
    "databaseRegister = results[1]\n",
    "if markedQubit == 1:\n",
    "    print(\"Succeed !\")\n",
    "    print(\"Found database index : {}\".format(databaseRegister))\n",
    "else:\n",
    "    print(\"Failed !\")"
   ]
  },
  {
   "cell_type": "code",
   "execution_count": null,
   "id": "32264578",
   "metadata": {},
   "outputs": [],
   "source": []
  }
 ],
 "metadata": {
  "kernelspec": {
   "display_name": "Python 3 (ipykernel)",
   "language": "python",
   "name": "python3"
  },
  "language_info": {
   "codemirror_mode": {
    "name": "ipython",
    "version": 3
   },
   "file_extension": ".py",
   "mimetype": "text/x-python",
   "name": "python",
   "nbconvert_exporter": "python",
   "pygments_lexer": "ipython3",
   "version": "3.9.12"
  }
 },
 "nbformat": 4,
 "nbformat_minor": 5
}
