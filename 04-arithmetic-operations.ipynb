{
 "cells": [
  {
   "cell_type": "markdown",
   "id": "afd0dd2f",
   "metadata": {},
   "source": [
    "# Quantum Arithmetic - Adder, Multiplier, and Exponentiation (Q# code)\n",
    "\n",
    "This notebook implements quantum adder (Draper Adder), multipler, exponentiation, and also these modulus version (Beauregard Adder) in Q#.\n",
    "\n",
    "See [here](https://tsmatz.wordpress.com/2019/05/22/quantum-computing-modulus-add-subtract-multiply-exponent/) for mathematical background.\n",
    "\n",
    "> Note : For the purpose of your understanding, here I implement algorithm very straightforward without any optimization. (See \"[Circuit for Shor's algorithm using 2n + 3 qubits](https://arxiv.org/pdf/quant-ph/0205095v3.pdf)\" or \"[Fast Quantum Modular Exponentiation Architecture](https://arxiv.org/pdf/1207.0511.pdf)\" for more optimized algorithms.)\n",
    "\n",
    "*back to [index](https://github.com/tsmatz/quantum-algorithms-qsharp)*"
   ]
  },
  {
   "cell_type": "code",
   "execution_count": 1,
   "id": "9af781e2",
   "metadata": {},
   "outputs": [
    {
     "name": "stdout",
     "output_type": "stream",
     "text": [
      "Preparing Q# environment...\n"
     ]
    }
   ],
   "source": [
    "import qsharp"
   ]
  },
  {
   "cell_type": "markdown",
   "id": "0d5c466e",
   "metadata": {},
   "source": [
    "For preparation, implement **Quantum Fourier Transform (shortly, QFT)** as follows. (The code is same as [03-phase-estimation.ipynb](./03-phase-estimation.ipynb).)\n",
    "\n",
    "See [here](https://tsmatz.wordpress.com/2019/04/26/quantum-computing-qsharp-quantum-fourier-transform-and-phase-estimation/) for details about this code.\n",
    "\n",
    "> Note : You can also use built-in ```Microsoft.Quantum.Canon.QFT()``` instead."
   ]
  },
  {
   "cell_type": "code",
   "execution_count": 2,
   "id": "d04e8af4",
   "metadata": {},
   "outputs": [],
   "source": [
    "%%qsharp\n",
    "open Microsoft.Quantum.Intrinsic;\n",
    "open Microsoft.Quantum.Convert;\n",
    "open Microsoft.Quantum.Math;\n",
    "open Microsoft.Quantum.Measurement;\n",
    "\n",
    "operation QFTImpl (qs : Qubit[]) : Unit is Adj + Ctl\n",
    "{\n",
    "    body (...)\n",
    "    {\n",
    "        let nQubits = Length(qs);\n",
    "\n",
    "        for i in 0 .. nQubits - 1\n",
    "        {\n",
    "            H(qs[i]);\n",
    "            for j in i + 1 .. nQubits - 1\n",
    "            {\n",
    "                Controlled R1Frac([qs[j]], (1, j - i, qs[i]));\n",
    "            }\n",
    "        }\n",
    "\n",
    "        Microsoft.Quantum.Canon.SwapReverseRegister(qs);\n",
    "    }\n",
    "}"
   ]
  },
  {
   "cell_type": "markdown",
   "id": "18fe9e49",
   "metadata": {},
   "source": [
    "## Quantum Adder (Draper Adder)\n",
    "\n",
    "Implement : |x⟩ |y⟩ -> |x⟩ |x + y mod 2^n⟩ where n = Length(x) = Length(y)<br>\n",
    "with [Drapper algorithm](https://arxiv.org/pdf/1411.5949.pdf)."
   ]
  },
  {
   "cell_type": "code",
   "execution_count": 3,
   "id": "3aacbdd3",
   "metadata": {},
   "outputs": [],
   "source": [
    "# declare function\n",
    "TestQuantumAdd: any = None"
   ]
  },
  {
   "cell_type": "code",
   "execution_count": 4,
   "id": "dfac803e",
   "metadata": {},
   "outputs": [
    {
     "name": "stdout",
     "output_type": "stream",
     "text": [
      "/snippet_.qs(13,27): warning QS3308: Deprecated syntax. Use [] to construct an empty array, or [x, size = n] to construct an array of x repeated n times.\n",
      "/snippet_.qs(17,26): warning QS3308: Deprecated syntax. Use [] to construct an empty array, or [x, size = n] to construct an array of x repeated n times.\n",
      "/snippet_.qs(30,26): warning QS3308: Deprecated syntax. Use [] to construct an empty array, or [x, size = n] to construct an array of x repeated n times.\n"
     ]
    }
   ],
   "source": [
    "%%qsharp\n",
    "operation QuantumAdd (x : Qubit[], y : Qubit[]) : Unit is Adj + Ctl {\n",
    "    let n = Length(x);\n",
    "    QFTImpl(y);\n",
    "    for i in 0 .. n - 1 {\n",
    "        for j in 0 .. (n - 1) - i {\n",
    "            Controlled R1Frac([x[i + j]], (2, j + 1, (y)[(n - 1) - i]));\n",
    "        }\n",
    "    }\n",
    "    Adjoint QFTImpl(y);\n",
    "}\n",
    "\n",
    "operation TestQuantumAdd (a : Int, b : Int, n : Int) : Int {\n",
    "    mutable resultArray = new Result[n];\n",
    "\n",
    "    use (x, y) = (Qubit[n], Qubit[n]) {\n",
    "        // create qubit's array from integer a (ex: 3 -> |011⟩)\n",
    "        mutable array1 = new Bool[n];\n",
    "        mutable tempInt1 = a;\n",
    "        for idxBit in 0 .. n - 1 {\n",
    "            set array1 w/= ((n - 1) - idxBit) <- tempInt1 % 2 == 0 ? false | true;\n",
    "            set tempInt1 = tempInt1 / 2;\n",
    "        }\n",
    "        for idx in 0 .. n - 1 {\n",
    "            if(array1[idx]) {\n",
    "                X(x[idx]);\n",
    "            }\n",
    "        }\n",
    "\n",
    "        // create qubit's array from integer b (ex: 3 -> |011⟩)\n",
    "        mutable array2 = new Bool[n];\n",
    "        mutable tempInt2 = b;\n",
    "        for idxBit in 0 .. n - 1 {\n",
    "            set array2 w/= ((n - 1) - idxBit) <- tempInt2 % 2 == 0 ? false | true;\n",
    "            set tempInt2 = tempInt2 / 2;\n",
    "        }\n",
    "        for idx in 0 .. n - 1 {\n",
    "            if(array2[idx]) {\n",
    "                X(y[idx]);\n",
    "            }\n",
    "        }\n",
    "\n",
    "        // apply Drapper adder\n",
    "        QuantumAdd(x, y);\n",
    "\n",
    "        // measure and reset\n",
    "        for idx in 0 .. n - 1 {\n",
    "            set resultArray w/= idx <- MResetZ(y[idx]);\n",
    "        }\n",
    "        for idx in 0 .. n - 1 {\n",
    "            Reset(x[idx]);\n",
    "        }\n",
    "    }\n",
    "\n",
    "    // get integer's result from measured array (ex : |011⟩ -> 3)\n",
    "    let resultBool = Microsoft.Quantum.Convert.ResultArrayAsBoolArray(resultArray);\n",
    "    mutable resultInt = 0;\n",
    "    for idx in 0 .. n - 1 {\n",
    "        if(resultBool[idx]) {\n",
    "            set resultInt = resultInt + (2 ^ ((n - 1) - idx));\n",
    "        }\n",
    "    }\n",
    "    return resultInt;\n",
    "}"
   ]
  },
  {
   "cell_type": "markdown",
   "id": "2dcdbd45",
   "metadata": {},
   "source": [
    "Run and check with Python code."
   ]
  },
  {
   "cell_type": "code",
   "execution_count": 5,
   "id": "81760158",
   "metadata": {},
   "outputs": [
    {
     "name": "stdout",
     "output_type": "stream",
     "text": [
      "3 + 3 is 6 (mod 8)\n",
      "4 + 3 is 7 (mod 8)\n",
      "5 + 3 is 0 (mod 8)\n",
      "6 + 3 is 1 (mod 8)\n",
      "7 + 3 is 2 (mod 8)\n",
      "7 + 4 is 3 (mod 8)\n",
      "7 + 5 is 4 (mod 8)\n",
      "7 + 6 is 5 (mod 8)\n",
      "7 + 7 is 6 (mod 8)\n"
     ]
    }
   ],
   "source": [
    "n = 3\n",
    "b = 3\n",
    "for a in range(3, 8):\n",
    "    res = TestQuantumAdd.simulate(a=a, b=b, n=n)\n",
    "    print(\"{} + {} is {} (mod {})\".format(a, b, res, 2**n))\n",
    "n = 3\n",
    "a = 7\n",
    "for b in range(4, 8):\n",
    "    res = TestQuantumAdd.simulate(a=a, b=b, n=n)\n",
    "    print(\"{} + {} is {} (mod {})\".format(a, b, res, 2**n))"
   ]
  },
  {
   "cell_type": "markdown",
   "id": "e9a51f9c",
   "metadata": {},
   "source": [
    "## Quantum Subtractor (Adjoint Adder)"
   ]
  },
  {
   "cell_type": "code",
   "execution_count": 6,
   "id": "30564829",
   "metadata": {},
   "outputs": [],
   "source": [
    "# declare function\n",
    "TestQuantumSub: any = None"
   ]
  },
  {
   "cell_type": "code",
   "execution_count": 7,
   "id": "32264578",
   "metadata": {},
   "outputs": [
    {
     "name": "stdout",
     "output_type": "stream",
     "text": [
      "/snippet_.qs(2,27): warning QS3308: Deprecated syntax. Use [] to construct an empty array, or [x, size = n] to construct an array of x repeated n times.\n",
      "/snippet_.qs(6,26): warning QS3308: Deprecated syntax. Use [] to construct an empty array, or [x, size = n] to construct an array of x repeated n times.\n",
      "/snippet_.qs(19,26): warning QS3308: Deprecated syntax. Use [] to construct an empty array, or [x, size = n] to construct an array of x repeated n times.\n"
     ]
    }
   ],
   "source": [
    "%%qsharp\n",
    "operation TestQuantumSub (a : Int, b : Int, n : Int) : Int {\n",
    "    mutable resultArray = new Result[n];\n",
    "\n",
    "    use (x, y) = (Qubit[n], Qubit[n]) {\n",
    "        // create qubit's array from integer a (ex: 3 -> |011⟩)\n",
    "        mutable array1 = new Bool[n];\n",
    "        mutable tempInt1 = a;\n",
    "        for idxBit in 0 .. n - 1 {\n",
    "            set array1 w/= ((n - 1) - idxBit) <- tempInt1 % 2 == 0 ? false | true;\n",
    "            set tempInt1 = tempInt1 / 2;\n",
    "        }\n",
    "        for idx in 0 .. n - 1 {\n",
    "            if(array1[idx]) {\n",
    "                X(x[idx]);\n",
    "            }\n",
    "        }\n",
    "\n",
    "        // create qubit's array from integer b (ex: 3 -> |011⟩)\n",
    "        mutable array2 = new Bool[n];\n",
    "        mutable tempInt2 = b;\n",
    "        for idxBit in 0 .. n - 1 {\n",
    "            set array2 w/= ((n - 1) - idxBit) <- tempInt2 % 2 == 0 ? false | true;\n",
    "            set tempInt2 = tempInt2 / 2;\n",
    "        }\n",
    "        for idx in 0 .. n - 1 {\n",
    "            if(array2[idx]) {\n",
    "                X(y[idx]);\n",
    "            }\n",
    "        }\n",
    "\n",
    "        // apply adjoint of Drapper adder\n",
    "        // Implement : |x⟩ |y⟩ -> |x⟩ |y - x⟩\n",
    "        Adjoint QuantumAdd(x, y);\n",
    "\n",
    "        // measure and reset\n",
    "        for idx in 0 .. n - 1 {\n",
    "            set resultArray w/= idx <- MResetZ(y[idx]);\n",
    "        }\n",
    "        for idx in 0 .. n - 1 {\n",
    "            Reset(x[idx]);\n",
    "        }\n",
    "    }\n",
    "\n",
    "    // get integer's result from measured array (ex : |011⟩ -> 3)\n",
    "    let resultBool = Microsoft.Quantum.Convert.ResultArrayAsBoolArray(resultArray);\n",
    "    mutable resultInt = 0;\n",
    "    for idx in 0 .. n - 1 {\n",
    "        if(resultBool[idx]) {\n",
    "            set resultInt = resultInt + (2 ^ ((n - 1) - idx));\n",
    "        }\n",
    "    }\n",
    "    return resultInt;\n",
    "}"
   ]
  },
  {
   "cell_type": "code",
   "execution_count": 8,
   "id": "01de17cd",
   "metadata": {},
   "outputs": [
    {
     "name": "stdout",
     "output_type": "stream",
     "text": [
      "5 - 3 is 2 (mod 8)\n",
      "5 - 4 is 1 (mod 8)\n",
      "5 - 5 is 0 (mod 8)\n",
      "5 - 6 is 7 (mod 8)\n",
      "5 - 7 is 6 (mod 8)\n"
     ]
    }
   ],
   "source": [
    "n = 3\n",
    "b = 5\n",
    "for a in range(3, 8):\n",
    "    res = TestQuantumSub.simulate(a=a, b=b, n=n)\n",
    "    print(\"{} - {} is {} (mod {})\".format(b, a, res, 2**n))"
   ]
  },
  {
   "cell_type": "markdown",
   "id": "902a55fb",
   "metadata": {},
   "source": [
    "## Quantum Adder by Classical Numeric\n",
    "\n",
    "Implement : |x⟩ -> |x + b mod 2^n⟩ for some integer b"
   ]
  },
  {
   "cell_type": "code",
   "execution_count": 9,
   "id": "0b788f66",
   "metadata": {},
   "outputs": [],
   "source": [
    "# declare function\n",
    "TestQuantumAddByNumber: any = None"
   ]
  },
  {
   "cell_type": "code",
   "execution_count": 10,
   "id": "5eaaf824",
   "metadata": {},
   "outputs": [
    {
     "name": "stdout",
     "output_type": "stream",
     "text": [
      "/snippet_.qs(17,27): warning QS3308: Deprecated syntax. Use [] to construct an empty array, or [x, size = n] to construct an array of x repeated n times.\n",
      "/snippet_.qs(21,26): warning QS3308: Deprecated syntax. Use [] to construct an empty array, or [x, size = n] to construct an array of x repeated n times.\n"
     ]
    }
   ],
   "source": [
    "%%qsharp\n",
    "operation QuantumAddByNumber (x : Qubit[], b : Int) : Unit is Adj + Ctl {\n",
    "    let n = Length(x);\n",
    "\n",
    "    // apply Draper adder for numeric\n",
    "    QFTImpl(x);\n",
    "    for i in 0 .. n - 1 {\n",
    "        for j in 0 .. (n - 1) - i {\n",
    "            if(not((b / 2^((n - 1) - (i + j))) % 2 == 0)) {\n",
    "                R1Frac(2, j + 1, (x)[(n - 1) - i]);\n",
    "            }\n",
    "        }\n",
    "    }\n",
    "    Adjoint QFTImpl(x);\n",
    "}\n",
    "\n",
    "operation TestQuantumAddByNumber (a : Int, b : Int, n : Int) : Int {\n",
    "    mutable resultArray = new Result[n];\n",
    "\n",
    "    use x = Qubit[n] {\n",
    "        // create qubit's array from integer a (ex: 3 -> |011⟩)\n",
    "        mutable array1 = new Bool[n];\n",
    "        mutable tempInt1 = a;\n",
    "        for idxBit in 0 .. n - 1 {\n",
    "            set array1 w/= ((n - 1) - idxBit) <- tempInt1 % 2 == 0 ? false | true;\n",
    "            set tempInt1 = tempInt1 / 2;\n",
    "        }\n",
    "        for idx in 0 .. n - 1 {\n",
    "            if(array1[idx]) {\n",
    "                X(x[idx]);\n",
    "            }\n",
    "        }\n",
    "\n",
    "        // apply Draper adder for numeric\n",
    "        QuantumAddByNumber(x, b);\n",
    "\n",
    "        // measure and reset\n",
    "        for idx in 0 .. n - 1 {\n",
    "            set resultArray w/= idx <- MResetZ(x[idx]);\n",
    "        }\n",
    "    }\n",
    "\n",
    "    // get integer's result from measured array (ex : |011⟩ -> 3)\n",
    "    let resultBool = Microsoft.Quantum.Convert.ResultArrayAsBoolArray(resultArray);\n",
    "    mutable resultInt = 0;\n",
    "    for idx in 0 .. n - 1 {\n",
    "        if(resultBool[idx]) {\n",
    "            set resultInt = resultInt + (2 ^ ((n - 1) - idx));\n",
    "        }\n",
    "    }\n",
    "    return resultInt;\n",
    "}"
   ]
  },
  {
   "cell_type": "code",
   "execution_count": 11,
   "id": "536eadd0",
   "metadata": {},
   "outputs": [
    {
     "name": "stdout",
     "output_type": "stream",
     "text": [
      "3 + 3 is 6 (mod 8)\n",
      "4 + 3 is 7 (mod 8)\n",
      "5 + 3 is 0 (mod 8)\n",
      "6 + 3 is 1 (mod 8)\n",
      "7 + 3 is 2 (mod 8)\n",
      "7 + 4 is 3 (mod 8)\n",
      "7 + 5 is 4 (mod 8)\n",
      "7 + 6 is 5 (mod 8)\n",
      "7 + 7 is 6 (mod 8)\n"
     ]
    }
   ],
   "source": [
    "n = 3\n",
    "b = 3\n",
    "for a in range(3, 8):\n",
    "    res = TestQuantumAddByNumber.simulate(a=a, b=b, n=n)\n",
    "    print(\"{} + {} is {} (mod {})\".format(a, b, res, 2**n))\n",
    "n = 3\n",
    "a = 7\n",
    "for b in range(4, 8):\n",
    "    res = TestQuantumAddByNumber.simulate(a=a, b=b, n=n)\n",
    "    print(\"{} + {} is {} (mod {})\".format(a, b, res, 2**n))"
   ]
  },
  {
   "cell_type": "markdown",
   "id": "2e4e9665",
   "metadata": {},
   "source": [
    "## Quantum Multiplier\n",
    "\n",
    "Implement : |y⟩ -> |a y mod 2^n⟩ for some integer a\n",
    "\n",
    "> Note : Integer \"a\" and modulus must be co-prime number. (Because this operator must be controlled. Otherwise ```InverseModI()``` will raise an error.)"
   ]
  },
  {
   "cell_type": "code",
   "execution_count": 12,
   "id": "7cadc051",
   "metadata": {},
   "outputs": [],
   "source": [
    "# declare function\n",
    "TestQuantumMultiply: any = None"
   ]
  },
  {
   "cell_type": "code",
   "execution_count": 14,
   "id": "2e3899d3",
   "metadata": {},
   "outputs": [
    {
     "name": "stdout",
     "output_type": "stream",
     "text": [
      "/snippet_.qs(28,27): warning QS3308: Deprecated syntax. Use [] to construct an empty array, or [x, size = n] to construct an array of x repeated n times.\n",
      "/snippet_.qs(32,26): warning QS3308: Deprecated syntax. Use [] to construct an empty array, or [x, size = n] to construct an array of x repeated n times.\n"
     ]
    }
   ],
   "source": [
    "%%qsharp\n",
    "operation QuantumMultiply (a : Int, y : Qubit[]) : Unit is Adj + Ctl {\n",
    "    let n = Length(y);\n",
    "    let a_mod = a % (2^n);\n",
    "\n",
    "    use s = Qubit[n] {\n",
    "        // start |y⟩ |0⟩\n",
    "\n",
    "        // apply adder by repeating \"a\" (integer) times\n",
    "        for r in 0 .. a_mod - 1 {\n",
    "            QuantumAdd(y, s);\n",
    "        }\n",
    "        // now |y⟩ |a y mod N⟩\n",
    "\n",
    "        // swap first register and second one by tuple\n",
    "        Microsoft.Quantum.Canon.ApplyToEachCA(SWAP, Microsoft.Quantum.Arrays.Zipped(y, s));\n",
    "        // now |a y mod N⟩ |y⟩\n",
    "\n",
    "        // reset all s qubits !\n",
    "        // but it's tricky because we cannot use \"Reset()\" since here is controlled operator.\n",
    "        let a_inv = InverseModI(a_mod, 2^n);\n",
    "        for r in 0 .. a_inv - 1 {\n",
    "            Adjoint QuantumAdd(y, s);\n",
    "        }\n",
    "    }\n",
    "}\n",
    "\n",
    "operation TestQuantumMultiply (a : Int, b : Int, n : Int) : Int {\n",
    "    mutable resultArray = new Result[n];\n",
    "\n",
    "    use y = Qubit[n] {\n",
    "        // create qubit's array from integer b (ex: 3 -> |011⟩)\n",
    "        mutable array2 = new Bool[n];\n",
    "        mutable tempInt2 = b;\n",
    "        for idxBit in 0 .. n - 1 {\n",
    "            set array2 w/= ((n - 1) - idxBit) <- tempInt2 % 2 == 0 ? false | true;\n",
    "            set tempInt2 = tempInt2 / 2;\n",
    "        }\n",
    "        for idx in 0 .. n - 1 {\n",
    "            if(array2[idx]) {\n",
    "                X(y[idx]);\n",
    "            }\n",
    "        }\n",
    "\n",
    "        // apply multiplier\n",
    "        QuantumMultiply(a, y);\n",
    "\n",
    "        // measure and reset\n",
    "        for idx in 0 .. n - 1 {\n",
    "            set resultArray w/= idx <- MResetZ(y[idx]);\n",
    "        }\n",
    "    }\n",
    "\n",
    "    // get integer's result from measured array (ex : |011⟩ -> 3)\n",
    "    let resultBool = Microsoft.Quantum.Convert.ResultArrayAsBoolArray(resultArray);\n",
    "    mutable resultInt = 0;\n",
    "    for idx in 0 .. n - 1 {\n",
    "        if(resultBool[idx]) {\n",
    "            set resultInt = resultInt + (2 ^ ((n - 1) - idx));\n",
    "        }\n",
    "    }\n",
    "    return resultInt;\n",
    "}"
   ]
  },
  {
   "cell_type": "code",
   "execution_count": 15,
   "id": "001b819c",
   "metadata": {},
   "outputs": [
    {
     "name": "stdout",
     "output_type": "stream",
     "text": [
      "5 x 3 is 7 (mod 8)\n",
      "5 x 4 is 4 (mod 8)\n",
      "5 x 5 is 1 (mod 8)\n",
      "5 x 6 is 6 (mod 8)\n",
      "5 x 7 is 3 (mod 8)\n"
     ]
    }
   ],
   "source": [
    "n = 3\n",
    "a = 5\n",
    "for b in range(3, 8):\n",
    "    res = TestQuantumMultiply.simulate(a=a, b=b, n=n)\n",
    "    print(\"{} x {} is {} (mod {})\".format(a, b, res, 2**n))"
   ]
  },
  {
   "cell_type": "markdown",
   "id": "e5a6c406",
   "metadata": {},
   "source": [
    "## Quantum Exponentiation\n",
    "\n",
    "Implement : |x⟩ -> |a^x mod 2^n⟩ for some integer a\n",
    "\n",
    "> Note : Integer \"a\" and modulus must be co-prime number. (Because this invokes ```QuantumMultiply()```.)"
   ]
  },
  {
   "cell_type": "code",
   "execution_count": 16,
   "id": "cc6f6993",
   "metadata": {},
   "outputs": [],
   "source": [
    "# declare function\n",
    "TestQuantumExponent: any = None"
   ]
  },
  {
   "cell_type": "code",
   "execution_count": 17,
   "id": "ed49c10c",
   "metadata": {},
   "outputs": [
    {
     "name": "stdout",
     "output_type": "stream",
     "text": [
      "/snippet_.qs(23,27): warning QS3308: Deprecated syntax. Use [] to construct an empty array, or [x, size = n] to construct an array of x repeated n times.\n",
      "/snippet_.qs(27,26): warning QS3308: Deprecated syntax. Use [] to construct an empty array, or [x, size = n] to construct an array of x repeated n times.\n"
     ]
    }
   ],
   "source": [
    "%%qsharp\n",
    "operation QuantumExponent (a : Int, x : Qubit[]) : Unit {\n",
    "    let n = Length(x);\n",
    "    use s = Qubit[n] {\n",
    "        // set |s⟩ = |1⟩\n",
    "        X(s[n - 1]);\n",
    "\n",
    "        // apply decomposition elements\n",
    "        for idx in 0 .. n - 1 {\n",
    "            Controlled QuantumMultiply([x[idx]], (a^(2^((n-1) - idx)), s));\n",
    "        }\n",
    "\n",
    "        // swap |x⟩ and |s⟩\n",
    "        Microsoft.Quantum.Canon.ApplyToEachCA(SWAP, Microsoft.Quantum.Arrays.Zipped(x, s));\n",
    "\n",
    "        // Reset s\n",
    "        for idx in 0 .. n - 1 {\n",
    "            Reset(s[idx]);\n",
    "        }\n",
    "    }\n",
    "}\n",
    "\n",
    "operation TestQuantumExponent (a : Int, b : Int, n : Int) : Int {\n",
    "    mutable resultArray = new Result[n];\n",
    "\n",
    "    use x = Qubit[n] {\n",
    "        // create qubit's array from integer b (ex: 3 -> |011⟩)\n",
    "        mutable array2 = new Bool[n];\n",
    "        mutable tempInt2 = b;\n",
    "        for idxBit in 0 .. n - 1 {\n",
    "            set array2 w/= ((n - 1) - idxBit) <- tempInt2 % 2 == 0 ? false | true;\n",
    "            set tempInt2 = tempInt2 / 2;\n",
    "        }\n",
    "        for idx in 0 .. n - 1 {\n",
    "            if(array2[idx]) {\n",
    "                X(x[idx]);\n",
    "            }\n",
    "        }\n",
    "\n",
    "        // apply multiplier\n",
    "        QuantumExponent(a, x);\n",
    "\n",
    "        // measure and reset\n",
    "        for idx in 0 .. n - 1 {\n",
    "            set resultArray w/= idx <- MResetZ(x[idx]);\n",
    "        }\n",
    "    }\n",
    "\n",
    "    // get integer's result from measured array (ex : |011⟩ -> 3)\n",
    "    let resultBool = Microsoft.Quantum.Convert.ResultArrayAsBoolArray(resultArray);\n",
    "    mutable resultInt = 0;\n",
    "    for idx in 0 .. n - 1 {\n",
    "        if(resultBool[idx]) {\n",
    "            set resultInt = resultInt + (2 ^ ((n - 1) - idx));\n",
    "        }\n",
    "    }\n",
    "    return resultInt;\n",
    "}"
   ]
  },
  {
   "cell_type": "code",
   "execution_count": 18,
   "id": "9d4a4e1c",
   "metadata": {},
   "outputs": [
    {
     "name": "stdout",
     "output_type": "stream",
     "text": [
      "3 ^ 3 is 3 (mod 8)\n",
      "3 ^ 4 is 1 (mod 8)\n",
      "3 ^ 5 is 3 (mod 8)\n",
      "3 ^ 6 is 1 (mod 8)\n",
      "3 ^ 7 is 3 (mod 8)\n"
     ]
    }
   ],
   "source": [
    "n = 3\n",
    "a = 3\n",
    "for b in range(3, 8):\n",
    "    res = TestQuantumExponent.simulate(a=a, b=b, n=n)\n",
    "    print(\"{} ^ {} is {} (mod {})\".format(a, b, res, 2**n))"
   ]
  },
  {
   "cell_type": "markdown",
   "id": "9efb25c4",
   "metadata": {},
   "source": [
    "## Arithmetic Operations (Adder, Multiplyer, Exponentiator) by Modulus N"
   ]
  },
  {
   "cell_type": "code",
   "execution_count": 19,
   "id": "6c34b882",
   "metadata": {},
   "outputs": [],
   "source": [
    "# declare function\n",
    "TestQuantumAddByModulus: any = None"
   ]
  },
  {
   "cell_type": "code",
   "execution_count": 20,
   "id": "d85ae90a",
   "metadata": {},
   "outputs": [
    {
     "name": "stdout",
     "output_type": "stream",
     "text": [
      "/snippet_.qs(90,27): warning QS3308: Deprecated syntax. Use [] to construct an empty array, or [x, size = n] to construct an array of x repeated n times.\n",
      "/snippet_.qs(94,26): warning QS3308: Deprecated syntax. Use [] to construct an empty array, or [x, size = n] to construct an array of x repeated n times.\n",
      "/snippet_.qs(107,26): warning QS3308: Deprecated syntax. Use [] to construct an empty array, or [x, size = n] to construct an array of x repeated n times.\n"
     ]
    }
   ],
   "source": [
    "%%qsharp\n",
    "//\n",
    "// Implement : |x⟩ |y⟩ -> |x⟩ |x+y mod N⟩ for arbitray integer N (< 2^n)\n",
    "// (where N < 2^n, x < N, y < N)\n",
    "//\n",
    "operation QuantumAddByModulus (N : Int, x : Qubit[], y : Qubit[]) : Unit is Adj + Ctl {\n",
    "    use (ancilla, cx, cy) = (Qubit(), Qubit(), Qubit()) {\n",
    "        // add bit for preventing overflow\n",
    "        let x_large = [cx] + x;\n",
    "        let y_large = [cy] + y;\n",
    "        // |x⟩ |y⟩ -> |x⟩ |x + y⟩\n",
    "        QuantumAdd(x_large, y_large);\n",
    "        // |y⟩ -> |y - N⟩\n",
    "        Adjoint QuantumAddByNumber(y_large, N);\n",
    "        // Turn on ancilla when first bit is |1⟩ (i.e, when x + y - N < 0)\n",
    "        Controlled X([y_large[0]], ancilla);\n",
    "        // Add N back when ancilla is |1⟩\n",
    "        Controlled QuantumAddByNumber([ancilla], (y_large, N));\n",
    "        // set ancilla to |0⟩\n",
    "        Adjoint QuantumAdd(x_large, y_large);\n",
    "        X(ancilla);\n",
    "        Controlled X([y_large[0]], ancilla);\n",
    "        QuantumAdd(x_large, y_large);\n",
    "    }\n",
    "}\n",
    "\n",
    "//\n",
    "// Implement : |y⟩ -> |a y mod N⟩ for some integer a and N\n",
    "// (where N < 2^n, y < N)\n",
    "//\n",
    "// Important Note :\n",
    "// Integer \"a\" and N must be co-prime number.\n",
    "// (For making this operator must be controlled. Otherwise InverseModI() raises an error.)\n",
    "//\n",
    "operation QuantumMultiplyByModulus (N : Int, a : Int, y : Qubit[]) : Unit is Adj + Ctl {\n",
    "    let n = Length(y);\n",
    "    let a_mod = a % N;\n",
    "\n",
    "    use s = Qubit[n] {\n",
    "        // start |y⟩ |0⟩\n",
    "\n",
    "        // apply adder by repeating \"a\" (integer) times\n",
    "        for r in 0 .. a_mod - 1 {\n",
    "            QuantumAddByModulus(N, y, s);\n",
    "        }\n",
    "        // now |y⟩ |a y mod N⟩\n",
    "\n",
    "        // swap first register and second one by tuple\n",
    "        Microsoft.Quantum.Canon.ApplyToEachCA(SWAP, Microsoft.Quantum.Arrays.Zipped(y, s));\n",
    "        // now |a y mod N⟩ |y⟩\n",
    "\n",
    "        // reset all s qubits !\n",
    "        // but it's tricky because we cannot use \"Reset()\" since here is controlled operator.\n",
    "        let a_inv = InverseModI(a_mod, N);\n",
    "        for r in 0 .. a_inv - 1 {\n",
    "            Adjoint QuantumAddByModulus(N, y, s);\n",
    "        }\n",
    "    }\n",
    "}\n",
    "\n",
    "//\n",
    "// Implement : |x⟩ -> |a^x mod N⟩ for some integer a and N\n",
    "// (where N < 2^n)\n",
    "//\n",
    "// Important Note :\n",
    "// Integer \"a\" and N must be co-prime number.\n",
    "// (Because this invokes QuantumMultiplyByModulus().)\n",
    "//\n",
    "operation QuantumExponentByModulus (N : Int, a : Int, x : Qubit[]) : Unit {\n",
    "    let n = Length(x);\n",
    "    use s = Qubit[n] {\n",
    "        // set |s⟩ = |1⟩\n",
    "        X(s[n - 1]);\n",
    "\n",
    "        // apply decomposition elements\n",
    "        for idx in 0 .. n - 1 {\n",
    "            Controlled QuantumMultiplyByModulus([x[idx]], (N, a^(2^((n-1) - idx)), s));\n",
    "        }\n",
    "\n",
    "        // swap |x⟩ and |s⟩\n",
    "        Microsoft.Quantum.Canon.ApplyToEachCA(SWAP, Microsoft.Quantum.Arrays.Zipped(x, s));\n",
    "\n",
    "        // Reset s\n",
    "        for idx in 0 .. n - 1 {\n",
    "            Reset(s[idx]);\n",
    "        }\n",
    "    }\n",
    "}\n",
    "\n",
    "operation TestQuantumAddByModulus (a : Int, b : Int, n : Int, N : Int) : Int {\n",
    "    mutable resultArray = new Result[n];\n",
    "\n",
    "    use (x, y) = (Qubit[n], Qubit[n]) {\n",
    "        // create qubit's array from integer a (ex: 3 -> |011⟩)\n",
    "        mutable array1 = new Bool[n];\n",
    "        mutable tempInt1 = a;\n",
    "        for idxBit in 0 .. n - 1 {\n",
    "            set array1 w/= ((n - 1) - idxBit) <- tempInt1 % 2 == 0 ? false | true;\n",
    "            set tempInt1 = tempInt1 / 2;\n",
    "        }\n",
    "        for idx in 0 .. n - 1 {\n",
    "            if(array1[idx]) {\n",
    "                X(x[idx]);\n",
    "            }\n",
    "        }\n",
    "\n",
    "        // create qubit's array from integer b (ex: 3 -> |011⟩)\n",
    "        mutable array2 = new Bool[n];\n",
    "        mutable tempInt2 = b;\n",
    "        for idxBit in 0 .. n - 1 {\n",
    "            set array2 w/= ((n - 1) - idxBit) <- tempInt2 % 2 == 0 ? false | true;\n",
    "            set tempInt2 = tempInt2 / 2;\n",
    "        }\n",
    "        for idx in 0 .. n - 1 {\n",
    "            if(array2[idx]) {\n",
    "                X(y[idx]);\n",
    "            }\n",
    "        }\n",
    "\n",
    "        // apply Drapper adder\n",
    "        QuantumAddByModulus(N, x, y);\n",
    "        //QuantumMultiplyByModulus(N, a, y);\n",
    "        //Adjoint QuantumAddByModulus(N, x, y);\n",
    "        //QuantumExponentByModulus(N, a, y);\n",
    "\n",
    "        // measure and reset\n",
    "        for idx in 0 .. n - 1 {\n",
    "            set resultArray w/= idx <- MResetZ(y[idx]);\n",
    "        }\n",
    "        for idx in 0 .. n - 1 {\n",
    "            Reset(x[idx]);\n",
    "        }\n",
    "    }\n",
    "\n",
    "    // get integer's result from measured array (ex : |011⟩ -> 3)\n",
    "    let resultBool = Microsoft.Quantum.Convert.ResultArrayAsBoolArray(resultArray);\n",
    "    mutable resultInt = 0;\n",
    "    for idx in 0 .. n - 1 {\n",
    "        if(resultBool[idx]) {\n",
    "            set resultInt = resultInt + (2 ^ ((n - 1) - idx));\n",
    "        }\n",
    "    }\n",
    "    return resultInt;\n",
    "}"
   ]
  },
  {
   "cell_type": "code",
   "execution_count": 23,
   "id": "443ff530",
   "metadata": {},
   "outputs": [
    {
     "name": "stdout",
     "output_type": "stream",
     "text": [
      "3 + 3 is 6 (mod 7)\n",
      "3 + 4 is 0 (mod 7)\n",
      "3 + 5 is 1 (mod 7)\n",
      "3 + 6 is 2 (mod 7)\n"
     ]
    }
   ],
   "source": [
    "n = 3\n",
    "N = 7\n",
    "a = 3\n",
    "for b in range(3, 7):\n",
    "    res = TestQuantumAddByModulus.simulate(a=a, b=b, n=n, N=N)\n",
    "    print(\"{} + {} is {} (mod {})\".format(a, b, res, N))"
   ]
  },
  {
   "cell_type": "code",
   "execution_count": null,
   "id": "be177ca0",
   "metadata": {},
   "outputs": [],
   "source": []
  }
 ],
 "metadata": {
  "kernelspec": {
   "display_name": "Python 3 (ipykernel)",
   "language": "python",
   "name": "python3"
  },
  "language_info": {
   "codemirror_mode": {
    "name": "ipython",
    "version": 3
   },
   "file_extension": ".py",
   "mimetype": "text/x-python",
   "name": "python",
   "nbconvert_exporter": "python",
   "pygments_lexer": "ipython3",
   "version": "3.9.12"
  }
 },
 "nbformat": 4,
 "nbformat_minor": 5
}
