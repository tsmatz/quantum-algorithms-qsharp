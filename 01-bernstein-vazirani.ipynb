{
 "cells": [
  {
   "cell_type": "markdown",
   "id": "3598261e",
   "metadata": {},
   "source": [
    "# Bernstein-Vazirani algorithm (Q# code)\n",
    "\n",
    "This notebook implements quantum Bernstein-Vazirani algorithm in Q#.\n",
    "\n",
    "See [here](https://tsmatz.wordpress.com/2019/02/21/quantum-computing-programming-qsharp-for-phase-kickback/) for mathematical background.\n",
    "\n",
    "*back to [index](https://github.com/tsmatz/quantum-algorithms-qsharp)*"
   ]
  },
  {
   "cell_type": "code",
   "execution_count": 1,
   "id": "9af781e2",
   "metadata": {},
   "outputs": [
    {
     "name": "stdout",
     "output_type": "stream",
     "text": [
      "Preparing Q# environment...\n",
      "."
     ]
    }
   ],
   "source": [
    "import qsharp"
   ]
  },
  {
   "cell_type": "code",
   "execution_count": 2,
   "id": "fc367230",
   "metadata": {},
   "outputs": [],
   "source": [
    "# declare function\n",
    "BernsteinVaziraniTestCase: any = None"
   ]
  },
  {
   "cell_type": "code",
   "execution_count": 3,
   "id": "d04e8af4",
   "metadata": {},
   "outputs": [],
   "source": [
    "%%qsharp\n",
    "open Microsoft.Quantum.Intrinsic;\n",
    "open Microsoft.Quantum.Canon;\n",
    "open Microsoft.Quantum.Measurement;\n",
    "open Microsoft.Quantum.Arrays;\n",
    "open Microsoft.Quantum.Convert;\n",
    "\n",
    "operation BernsteinVaziraniTestCase (n : Int, patternInt : Int) : Int {\n",
    "    let pattern = IntAsBoolArray(patternInt, n);\n",
    "\n",
    "    use qubits = Qubit[n + 1] { // all n+1 qubits are initialized as |0〉\n",
    "\n",
    "        // set last qubits[n] as |1〉\n",
    "        X(qubits[n]);\n",
    "\n",
    "        // set qubits[i] = |+〉 (i=0 ... n-1) and qubits[n] = |-〉\n",
    "        ApplyToEach(H, qubits);\n",
    "\n",
    "        // apply unitary transformation for qubits\n",
    "        let Uf = ParityOperation(pattern);\n",
    "        Uf(qubits);\n",
    "\n",
    "        // apply Hadamard again\n",
    "        ApplyToEach(H, qubits[0 .. n - 1]);\n",
    "\n",
    "        // measure and reset qubit\n",
    "        let resultArray = ForEach(MResetZ, qubits[0 .. n - 1]);\n",
    "        let resultBool = ResultArrayAsBoolArray(resultArray);\n",
    "        let resultInt = BoolArrayAsInt(resultBool);\n",
    "\n",
    "        // reset last qubit\n",
    "        Reset(qubits[n]);\n",
    "\n",
    "        return resultInt;\n",
    "    }\n",
    "}\n",
    "\n",
    "operation ParityOperationImpl (pattern : Bool[], qs : Qubit[]) : Unit {    \n",
    "    let n = Length(pattern);\n",
    "    for idx in 0 .. n - 1 {\n",
    "        if (pattern[idx]) {\n",
    "            Controlled X([qs[idx]], qs[n]);\n",
    "        }\n",
    "    }\n",
    "}\n",
    "  \n",
    "function ParityOperation (pattern : Bool[]) : (Qubit[] => Unit) {\n",
    "    return ParityOperationImpl(pattern, _);\n",
    "}"
   ]
  },
  {
   "cell_type": "code",
   "execution_count": 5,
   "id": "1087c4af",
   "metadata": {},
   "outputs": [
    {
     "name": "stdout",
     "output_type": "stream",
     "text": [
      "Actual Parity is 11\n",
      "Measured Parity is 11\n"
     ]
    }
   ],
   "source": [
    "import random\n",
    "\n",
    "n = 4\n",
    "parity = random.randint(0, 1 << n - 1)\n",
    "measuredParity = BernsteinVaziraniTestCase.simulate(n=n, patternInt=parity)\n",
    "print(\"Actual Parity is {}\".format(parity))\n",
    "print(\"Measured Parity is {}\".format(measuredParity))"
   ]
  },
  {
   "cell_type": "code",
   "execution_count": null,
   "id": "50681735",
   "metadata": {},
   "outputs": [],
   "source": []
  }
 ],
 "metadata": {
  "kernelspec": {
   "display_name": "Python 3 (ipykernel)",
   "language": "python",
   "name": "python3"
  },
  "language_info": {
   "codemirror_mode": {
    "name": "ipython",
    "version": 3
   },
   "file_extension": ".py",
   "mimetype": "text/x-python",
   "name": "python",
   "nbconvert_exporter": "python",
   "pygments_lexer": "ipython3",
   "version": "3.10.8"
  }
 },
 "nbformat": 4,
 "nbformat_minor": 5
}
